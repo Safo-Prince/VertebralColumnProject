{
 "cells": [
  {
   "cell_type": "code",
   "execution_count": 8,
   "id": "b43a67c9",
   "metadata": {},
   "outputs": [],
   "source": [
    "import pandas as pd\n",
    "from sklearn.model_selection import train_test_split\n",
    "from sklearn.tree import DecisionTreeClassifier \n",
    "from sklearn.tree import export_graphviz\n",
    "from sklearn.metrics import classification_report, confusion_matrix\n",
    "from sklearn.metrics import accuracy_score"
   ]
  },
  {
   "cell_type": "code",
   "execution_count": 9,
   "id": "fbeb5012",
   "metadata": {},
   "outputs": [],
   "source": [
    "vertebral_column = pd.read_csv('VertebralColumn_3C.csv')"
   ]
  },
  {
   "cell_type": "code",
   "execution_count": 10,
   "id": "0eacd784",
   "metadata": {},
   "outputs": [
    {
     "data": {
      "text/html": [
       "<div>\n",
       "<style scoped>\n",
       "    .dataframe tbody tr th:only-of-type {\n",
       "        vertical-align: middle;\n",
       "    }\n",
       "\n",
       "    .dataframe tbody tr th {\n",
       "        vertical-align: top;\n",
       "    }\n",
       "\n",
       "    .dataframe thead th {\n",
       "        text-align: right;\n",
       "    }\n",
       "</style>\n",
       "<table border=\"1\" class=\"dataframe\">\n",
       "  <thead>\n",
       "    <tr style=\"text-align: right;\">\n",
       "      <th></th>\n",
       "      <th>pelvic_incidence</th>\n",
       "      <th>pelvic_tilt</th>\n",
       "      <th>lumbar_lordosis_angle</th>\n",
       "      <th>sacral_slope</th>\n",
       "      <th>pelvic_radius</th>\n",
       "      <th>degree_spondylolisthesis</th>\n",
       "      <th>class</th>\n",
       "    </tr>\n",
       "  </thead>\n",
       "  <tbody>\n",
       "    <tr>\n",
       "      <th>0</th>\n",
       "      <td>63.027817</td>\n",
       "      <td>22.552586</td>\n",
       "      <td>39.609117</td>\n",
       "      <td>40.475232</td>\n",
       "      <td>98.672917</td>\n",
       "      <td>-0.254400</td>\n",
       "      <td>Hernia</td>\n",
       "    </tr>\n",
       "    <tr>\n",
       "      <th>1</th>\n",
       "      <td>39.056951</td>\n",
       "      <td>10.060991</td>\n",
       "      <td>25.015378</td>\n",
       "      <td>28.995960</td>\n",
       "      <td>114.405425</td>\n",
       "      <td>4.564259</td>\n",
       "      <td>Hernia</td>\n",
       "    </tr>\n",
       "    <tr>\n",
       "      <th>2</th>\n",
       "      <td>68.832021</td>\n",
       "      <td>22.218482</td>\n",
       "      <td>50.092194</td>\n",
       "      <td>46.613539</td>\n",
       "      <td>105.985135</td>\n",
       "      <td>-3.530317</td>\n",
       "      <td>Hernia</td>\n",
       "    </tr>\n",
       "    <tr>\n",
       "      <th>3</th>\n",
       "      <td>69.297008</td>\n",
       "      <td>24.652878</td>\n",
       "      <td>44.311238</td>\n",
       "      <td>44.644130</td>\n",
       "      <td>101.868495</td>\n",
       "      <td>11.211523</td>\n",
       "      <td>Hernia</td>\n",
       "    </tr>\n",
       "    <tr>\n",
       "      <th>4</th>\n",
       "      <td>49.712859</td>\n",
       "      <td>9.652075</td>\n",
       "      <td>28.317406</td>\n",
       "      <td>40.060784</td>\n",
       "      <td>108.168725</td>\n",
       "      <td>7.918501</td>\n",
       "      <td>Hernia</td>\n",
       "    </tr>\n",
       "  </tbody>\n",
       "</table>\n",
       "</div>"
      ],
      "text/plain": [
       "   pelvic_incidence  pelvic_tilt  lumbar_lordosis_angle  sacral_slope  \\\n",
       "0         63.027817    22.552586              39.609117     40.475232   \n",
       "1         39.056951    10.060991              25.015378     28.995960   \n",
       "2         68.832021    22.218482              50.092194     46.613539   \n",
       "3         69.297008    24.652878              44.311238     44.644130   \n",
       "4         49.712859     9.652075              28.317406     40.060784   \n",
       "\n",
       "   pelvic_radius  degree_spondylolisthesis   class  \n",
       "0      98.672917                 -0.254400  Hernia  \n",
       "1     114.405425                  4.564259  Hernia  \n",
       "2     105.985135                 -3.530317  Hernia  \n",
       "3     101.868495                 11.211523  Hernia  \n",
       "4     108.168725                  7.918501  Hernia  "
      ]
     },
     "execution_count": 10,
     "metadata": {},
     "output_type": "execute_result"
    }
   ],
   "source": [
    "vertebral_column.head()\n"
   ]
  },
  {
   "cell_type": "code",
   "execution_count": 11,
   "id": "45b9ad60",
   "metadata": {},
   "outputs": [
    {
     "name": "stdout",
     "output_type": "stream",
     "text": [
      "<class 'pandas.core.frame.DataFrame'>\n",
      "RangeIndex: 310 entries, 0 to 309\n",
      "Data columns (total 7 columns):\n",
      " #   Column                    Non-Null Count  Dtype  \n",
      "---  ------                    --------------  -----  \n",
      " 0   pelvic_incidence          310 non-null    float64\n",
      " 1   pelvic_tilt               310 non-null    float64\n",
      " 2   lumbar_lordosis_angle     310 non-null    float64\n",
      " 3   sacral_slope              310 non-null    float64\n",
      " 4   pelvic_radius             310 non-null    float64\n",
      " 5   degree_spondylolisthesis  310 non-null    float64\n",
      " 6   class                     310 non-null    object \n",
      "dtypes: float64(6), object(1)\n",
      "memory usage: 17.1+ KB\n"
     ]
    }
   ],
   "source": [
    "vertebral_column.info()"
   ]
  },
  {
   "cell_type": "code",
   "execution_count": 12,
   "id": "074d3c64",
   "metadata": {},
   "outputs": [
    {
     "data": {
      "text/plain": [
       "Spondylolisthesis    150\n",
       "Normal               100\n",
       "Hernia                60\n",
       "Name: class, dtype: int64"
      ]
     },
     "execution_count": 12,
     "metadata": {},
     "output_type": "execute_result"
    }
   ],
   "source": [
    "vertebral_column['class'].value_counts()"
   ]
  },
  {
   "cell_type": "code",
   "execution_count": 13,
   "id": "9df9ab1c",
   "metadata": {},
   "outputs": [],
   "source": [
    "independent_variable = vertebral_column.drop('class',axis=1)\n",
    "target_variable = vertebral_column['class']"
   ]
  },
  {
   "cell_type": "code",
   "execution_count": 14,
   "id": "954bed4e",
   "metadata": {},
   "outputs": [],
   "source": [
    "X_train_one, X_validation_one, y_train_one, y_validation_one = train_test_split(independent_variable,\n",
    "                                                     target_variable, \n",
    "                                                     test_size=0.2,\n",
    "                                                     random_state = 42)"
   ]
  },
  {
   "cell_type": "code",
   "execution_count": 15,
   "id": "db13ebd1",
   "metadata": {},
   "outputs": [],
   "source": [
    "classifier_one = DecisionTreeClassifier(criterion=\"entropy\",random_state = 42,max_depth=8)\n"
   ]
  },
  {
   "cell_type": "code",
   "execution_count": 16,
   "id": "7b8177ea",
   "metadata": {},
   "outputs": [],
   "source": [
    "classifier_two = DecisionTreeClassifier(criterion=\"entropy\",random_state = 42,max_depth=11)"
   ]
  },
  {
   "cell_type": "code",
   "execution_count": 17,
   "id": "94ac6470",
   "metadata": {},
   "outputs": [],
   "source": [
    "X_train_two, X_validation_two, y_train_two, y_validation_two = train_test_split(independent_variable,\n",
    "                                                     target_variable, \n",
    "                                                     test_size=0.3,\n",
    "                                                     random_state = 42)"
   ]
  },
  {
   "cell_type": "code",
   "execution_count": 18,
   "id": "fcf46077",
   "metadata": {},
   "outputs": [
    {
     "data": {
      "text/plain": [
       "DecisionTreeClassifier(criterion='entropy', max_depth=8, random_state=42)"
      ]
     },
     "execution_count": 18,
     "metadata": {},
     "output_type": "execute_result"
    }
   ],
   "source": [
    "classifier_one.fit(X_train_one,y_train_one)\n"
   ]
  },
  {
   "cell_type": "code",
   "execution_count": 19,
   "id": "9ee9c19d",
   "metadata": {},
   "outputs": [
    {
     "data": {
      "text/plain": [
       "DecisionTreeClassifier(criterion='entropy', max_depth=11, random_state=42)"
      ]
     },
     "execution_count": 19,
     "metadata": {},
     "output_type": "execute_result"
    }
   ],
   "source": [
    "classifier_two.fit(X_train_two,y_train_two)"
   ]
  },
  {
   "cell_type": "code",
   "execution_count": 20,
   "id": "5ef1fb67",
   "metadata": {},
   "outputs": [],
   "source": [
    "feature_names =list(independent_variable.columns)\n",
    "class_names = list(vertebral_column['class'].unique())"
   ]
  },
  {
   "cell_type": "code",
   "execution_count": 21,
   "id": "f6a0349e",
   "metadata": {},
   "outputs": [],
   "source": [
    "export_graphviz(classifier_one,out_file=\"Tree_one.dot\"\n",
    "                    ,feature_names = feature_names,\n",
    "                    class_names =class_names, \n",
    "                    rounded = True,filled = True)"
   ]
  },
  {
   "cell_type": "code",
   "execution_count": 22,
   "id": "74ab9fd5",
   "metadata": {},
   "outputs": [],
   "source": [
    "export_graphviz(classifier_two,out_file=\"Tree_two.dot\"\n",
    "                    ,feature_names = feature_names,\n",
    "                    class_names =class_names, \n",
    "                    rounded = True,filled = True) "
   ]
  },
  {
   "cell_type": "code",
   "execution_count": 23,
   "id": "ac94fc44",
   "metadata": {},
   "outputs": [],
   "source": [
    "y_pred_one = classifier_one.predict(X_validation_one)  "
   ]
  },
  {
   "cell_type": "code",
   "execution_count": 24,
   "id": "3f5c3550",
   "metadata": {},
   "outputs": [],
   "source": [
    "y_pred_two = classifier_two.predict(X_validation_two) "
   ]
  },
  {
   "cell_type": "code",
   "execution_count": 46,
   "id": "f7bfa775",
   "metadata": {},
   "outputs": [
    {
     "name": "stdout",
     "output_type": "stream",
     "text": [
      "\n",
      "91.94%\n"
     ]
    }
   ],
   "source": [
    "\n",
    "result = accuracy_score(y_validation_one, y_pred_one) * 100\n",
    "print(\"{:.2f}%\".format(result) )\n",
    "\n"
   ]
  },
  {
   "cell_type": "code",
   "execution_count": 26,
   "id": "ab6350eb",
   "metadata": {},
   "outputs": [
    {
     "name": "stdout",
     "output_type": "stream",
     "text": [
      "                   precision    recall  f1-score   support\n",
      "\n",
      "           Hernia       0.90      0.75      0.82        12\n",
      "           Normal       0.81      0.94      0.87        18\n",
      "Spondylolisthesis       1.00      0.97      0.98        32\n",
      "\n",
      "         accuracy                           0.92        62\n",
      "        macro avg       0.90      0.89      0.89        62\n",
      "     weighted avg       0.93      0.92      0.92        62\n",
      "\n"
     ]
    }
   ],
   "source": [
    "print(classification_report(y_validation_one, y_pred_one))"
   ]
  },
  {
   "cell_type": "code",
   "execution_count": 50,
   "id": "c8298991",
   "metadata": {},
   "outputs": [
    {
     "name": "stdout",
     "output_type": "stream",
     "text": [
      "86.02%\n"
     ]
    }
   ],
   "source": [
    "result = accuracy_score(y_validation_two, y_pred_two) * 100\n",
    "print(\"{:.2f}%\".format(result) )\n",
    "\n",
    "\n"
   ]
  },
  {
   "cell_type": "code",
   "execution_count": 27,
   "id": "374f946d",
   "metadata": {},
   "outputs": [
    {
     "name": "stdout",
     "output_type": "stream",
     "text": [
      "                   precision    recall  f1-score   support\n",
      "\n",
      "           Hernia       0.72      0.72      0.72        18\n",
      "           Normal       0.74      0.71      0.72        24\n",
      "Spondylolisthesis       0.96      0.98      0.97        51\n",
      "\n",
      "         accuracy                           0.86        93\n",
      "        macro avg       0.81      0.80      0.81        93\n",
      "     weighted avg       0.86      0.86      0.86        93\n",
      "\n"
     ]
    }
   ],
   "source": [
    "print(classification_report(y_validation_two, y_pred_two))"
   ]
  },
  {
   "cell_type": "code",
   "execution_count": 28,
   "id": "2d996e32",
   "metadata": {},
   "outputs": [
    {
     "data": {
      "text/plain": [
       "array(['Hernia', 'Spondylolisthesis', 'Normal'], dtype=object)"
      ]
     },
     "execution_count": 28,
     "metadata": {},
     "output_type": "execute_result"
    }
   ],
   "source": [
    "vertebral_column['class'].unique()"
   ]
  },
  {
   "cell_type": "code",
   "execution_count": 29,
   "id": "400412bf",
   "metadata": {},
   "outputs": [],
   "source": [
    "cm_one =confusion_matrix(y_validation_one, y_pred_one)\n",
    "cm_two =confusion_matrix(y_validation_two, y_pred_two)"
   ]
  },
  {
   "cell_type": "code",
   "execution_count": 30,
   "id": "0ad9cb04",
   "metadata": {},
   "outputs": [],
   "source": [
    "import matplotlib.pyplot as plt\n",
    "import numpy as np\n",
    "import itertools\n",
    "# Function to plot a confusion Matrix\n",
    "# Directly copied from the Scikit Learn website\n",
    "def plot_confusion_matrix(cm, classes,\n",
    "                         normalize=False,\n",
    "                         title='Confusion matrix',\n",
    "                         cmap=plt.cm.Blues):\n",
    "    \"\"\"\n",
    "    This function prints and plots the confusion matrix.\n",
    "    Normalization can be applied by setting 'normalize=True'.\n",
    "    \"\"\"\n",
    "    plt.imshow(cm, interpolation='nearest', cmap=cmap)\n",
    "    plt.title(title)\n",
    "    plt.colorbar()\n",
    "    tick_marks = np.arange(len(classes))\n",
    "    plt.xticks(tick_marks, classes, rotation=45)\n",
    "    plt.yticks(tick_marks, classes)\n",
    "  \n",
    "    if normalize:\n",
    "        cm = cm.astype('float') / cm.sum(axis=1)[:, np.newaxis]\n",
    "        print(\"Normalized confusion matrix\")\n",
    "    else:\n",
    "        print('Confusion matrix, without normalization')\n",
    "        \n",
    "    print(cm)\n",
    "    \n",
    "    thresh = cm.max() / 2.\n",
    "    for i, j in itertools.product(range(cm.shape[0]), range(cm.shape[1])):\n",
    "        plt.text(j, i, cm[i, j],\n",
    "                horizontalalignment=\"center\",\n",
    "                color=\"white\" if cm[i, j] > thresh else \"black\")\n",
    "        \n",
    "    plt.tight_layout()\n",
    "    plt.ylabel('True label')\n",
    "    plt.xlabel('Predicted label')\n",
    "    "
   ]
  },
  {
   "cell_type": "code",
   "execution_count": 31,
   "id": "fc75a2c9",
   "metadata": {},
   "outputs": [
    {
     "name": "stdout",
     "output_type": "stream",
     "text": [
      "Confusion matrix, without normalization\n",
      "[[ 9  3  0]\n",
      " [ 1 17  0]\n",
      " [ 0  1 31]]\n"
     ]
    },
    {
     "data": {
      "image/png": "[encoded data removed]",
      "text/plain": [
       "<Figure size 432x288 with 2 Axes>"
      ]
     },
     "metadata": {
      "needs_background": "light"
     },
     "output_type": "display_data"
    }
   ],
   "source": [
    "cm_plot_labels = class_names\n",
    "plot_confusion_matrix(cm=cm_one, classes=cm_plot_labels, title='Confusion Matrix For Decision Tree One')"
   ]
  },
  {
   "cell_type": "code",
   "execution_count": 32,
   "id": "c99e6374",
   "metadata": {},
   "outputs": [
    {
     "name": "stdout",
     "output_type": "stream",
     "text": [
      "Confusion matrix, without normalization\n",
      "[[13  5  0]\n",
      " [ 5 17  2]\n",
      " [ 0  1 50]]\n"
     ]
    },
    {
     "data": {
      "image/png": "[encoded data removed]",
      "text/plain": [
       "<Figure size 432x288 with 2 Axes>"
      ]
     },
     "metadata": {
      "needs_background": "light"
     },
     "output_type": "display_data"
    }
   ],
   "source": [
    "plot_confusion_matrix(cm=cm_two, classes=cm_plot_labels, title='Confusion Matrix For Decision Tree two')"
   ]
  },
  {
   "cell_type": "code",
   "execution_count": 33,
   "id": "65e25f8b",
   "metadata": {},
   "outputs": [],
   "source": [
    "independent_variable = vertebral_column.drop(['class','sacral_slope', 'pelvic_radius','degree_spondylolisthesis'],axis=1)\n",
    "target_variable = vertebral_column['class']"
   ]
  },
  {
   "cell_type": "code",
   "execution_count": 34,
   "id": "4a36a87b",
   "metadata": {},
   "outputs": [],
   "source": [
    "X_train, X_validation, y_train, y_validation = train_test_split(independent_variable,\n",
    "                                                     target_variable, \n",
    "                                                     test_size=0.3,\n",
    "                                                     random_state = 42)"
   ]
  },
  {
   "cell_type": "code",
   "execution_count": 35,
   "id": "1934c63f",
   "metadata": {},
   "outputs": [],
   "source": [
    "classifier_three = DecisionTreeClassifier(criterion=\"entropy\",random_state = 42,max_depth=8)"
   ]
  },
  {
   "cell_type": "code",
   "execution_count": 36,
   "id": "960215a8",
   "metadata": {},
   "outputs": [
    {
     "data": {
      "text/plain": [
       "DecisionTreeClassifier(criterion='entropy', max_depth=8, random_state=42)"
      ]
     },
     "execution_count": 36,
     "metadata": {},
     "output_type": "execute_result"
    }
   ],
   "source": [
    "classifier_one.fit(X_train,y_train)"
   ]
  },
  {
   "cell_type": "code",
   "execution_count": 37,
   "id": "011538b1",
   "metadata": {},
   "outputs": [],
   "source": [
    "feature_names = ['pelvic_incidence','pelvic_tilt','lumbar_lordosis_angle']\n",
    "export_graphviz(classifier_one,out_file=\"Tree_three.dot\"\n",
    "                    ,feature_names = feature_names,\n",
    "                    class_names =class_names, \n",
    "                    rounded = True,filled = True)"
   ]
  },
  {
   "cell_type": "code",
   "execution_count": 38,
   "id": "b1e2d620",
   "metadata": {},
   "outputs": [],
   "source": [
    "y_pred_three = classifier_one.predict(X_validation)"
   ]
  },
  {
   "cell_type": "code",
   "execution_count": 39,
   "id": "0248ea1a",
   "metadata": {},
   "outputs": [
    {
     "name": "stdout",
     "output_type": "stream",
     "text": [
      "                   precision    recall  f1-score   support\n",
      "\n",
      "           Hernia       0.44      0.44      0.44        18\n",
      "           Normal       0.37      0.42      0.39        24\n",
      "Spondylolisthesis       0.77      0.73      0.75        51\n",
      "\n",
      "         accuracy                           0.59        93\n",
      "        macro avg       0.53      0.53      0.53        93\n",
      "     weighted avg       0.60      0.59      0.60        93\n",
      "\n"
     ]
    }
   ],
   "source": [
    "print(classification_report(y_validation, y_pred_three))"
   ]
  },
  {
   "cell_type": "code",
   "execution_count": 51,
   "id": "6a808e46",
   "metadata": {},
   "outputs": [
    {
     "name": "stdout",
     "output_type": "stream",
     "text": [
      "59.14%\n"
     ]
    }
   ],
   "source": [
    "result = accuracy_score(y_validation, y_pred_three)* 100\n",
    "print(\"{:.2f}%\".format(result) )\n"
   ]
  },
  {
   "cell_type": "code",
   "execution_count": null,
   "id": "c04d93d3",
   "metadata": {},
   "outputs": [],
   "source": []
  }
 ],
 "metadata": {
  "kernelspec": {
   "display_name": "Python 3 (ipykernel)",
   "language": "python",
   "name": "python3"
  },
  "language_info": {
   "codemirror_mode": {
    "name": "ipython",
    "version": 3
   },
   "file_extension": ".py",
   "mimetype": "text/x-python",
   "name": "python",
   "nbconvert_exporter": "python",
   "pygments_lexer": "ipython3",
   "version": "3.9.7"
  }
 },
 "nbformat": 4,
 "nbformat_minor": 5
}
